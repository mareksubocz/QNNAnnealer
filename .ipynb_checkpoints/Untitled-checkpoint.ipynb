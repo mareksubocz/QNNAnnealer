{
 "cells": [
  {
   "cell_type": "code",
   "execution_count": 1,
   "id": "c807c22d",
   "metadata": {},
   "outputs": [
    {
     "name": "stderr",
     "output_type": "stream",
     "text": [
      "/Users/mareksubocz/.pyenv/versions/3.10.3/lib/python3.10/site-packages/tqdm/auto.py:22: TqdmWarning: IProgress not found. Please update jupyter and ipywidgets. See https://ipywidgets.readthedocs.io/en/stable/user_install.html\n",
      "  from .autonotebook import tqdm as notebook_tqdm\n"
     ]
    }
   ],
   "source": [
    "import torch\n",
    "import torch.optim as optim\n",
    "import numpy as np\n",
    "from torch.utils.data import DataLoader, Dataset\n",
    "from torch import nn\n",
    "from tqdm import tqdm\n",
    "from dimod import BinaryQuadraticModel\n",
    "from dwave.system import DWaveSampler, EmbeddingComposite\n",
    "from neal import SimulatedAnnealingSampler\n",
    "import pyqubo"
   ]
  },
  {
   "cell_type": "code",
   "execution_count": 2,
   "id": "6ca8d5da",
   "metadata": {},
   "outputs": [],
   "source": [
    "class Network(nn.Module):\n",
    "    def __init__(self) -> None:\n",
    "        super(Network, self).__init__()\n",
    "        self.linear_relu_stack = nn.Sequential(\n",
    "            nn.Linear(2, 5),\n",
    "            nn.ReLU(),\n",
    "            nn.Linear(5, 20),\n",
    "            nn.ReLU(),\n",
    "            nn.Linear(20, 2, bias=False),\n",
    "        )\n",
    "\n",
    "    def forward(self, x):\n",
    "        logits = self.linear_relu_stack(x)\n",
    "        return logits\n",
    "\n",
    "    def forward_no_fc(self, x):\n",
    "        \"\"\"\n",
    "        Forward pass used to calculate QUBO matrix.\n",
    "        \"\"\"\n",
    "        x = self.linear_relu_stack[0](x)\n",
    "        x = self.linear_relu_stack[1](x)\n",
    "        x = self.linear_relu_stack[2](x)\n",
    "        x = self.linear_relu_stack[3](x)\n",
    "        return x\n",
    "\n",
    "\n",
    "class XORDataset(Dataset):\n",
    "    def __init__(self) -> None:\n",
    "        self.X = torch.tensor([(0.,0.), (0.,1.), (1.,0.), (1.,1.)], dtype=torch.float)\n",
    "        self.y = torch.tensor([(1,0),(0,1),(0,1),(1,0)], dtype=torch.float)\n",
    "\n",
    "    def __len__(self):\n",
    "        return len(self.y)\n",
    "\n",
    "    def __getitem__(self, index):\n",
    "        return self.X[index], self.y[index]\n"
   ]
  },
  {
   "cell_type": "code",
   "execution_count": 3,
   "id": "1ba108cd",
   "metadata": {},
   "outputs": [],
   "source": [
    "def train_loop(model, dataloader, optimizer, criterion, num_epochs, cutout=None):\n",
    "    model.train()\n",
    "    for epoch in range(num_epochs):\n",
    "        running_loss = 0.0\n",
    "        for i, data in enumerate(dataloader):\n",
    "            if cutout and i > cutout:\n",
    "                break\n",
    "            X, y = data\n",
    "            optimizer.zero_grad()\n",
    "            y_pred = model(X)\n",
    "            loss = criterion(y_pred, y)\n",
    "            loss.backward()\n",
    "            optimizer.step()\n",
    "\n",
    "            # print statistics\n",
    "            running_loss += loss.item()\n",
    "    print(f'[{epoch + 1}, {i + 1:5d}] loss: {running_loss / 2000}')\n",
    "    print(\"Finished training\")"
   ]
  },
  {
   "cell_type": "code",
   "execution_count": null,
   "id": "08633dc1",
   "metadata": {},
   "outputs": [],
   "source": []
  },
  {
   "cell_type": "code",
   "execution_count": null,
   "id": "9aa0ee05",
   "metadata": {},
   "outputs": [],
   "source": []
  },
  {
   "cell_type": "code",
   "execution_count": 4,
   "id": "d5e0d673",
   "metadata": {},
   "outputs": [],
   "source": [
    "model = Network()\n",
    "dataset = XORDataset()\n",
    "dataloader = DataLoader(dataset, batch_size=1, shuffle=True)\n"
   ]
  },
  {
   "cell_type": "code",
   "execution_count": 5,
   "id": "f5aae279",
   "metadata": {},
   "outputs": [
    {
     "name": "stdout",
     "output_type": "stream",
     "text": [
      "[100,     4] loss: 2.9221416952829317e-18\n",
      "Finished training\n"
     ]
    }
   ],
   "source": [
    "num_epochs = 100\n",
    "\n",
    "criterion = nn.MSELoss()\n",
    "optimizer = optim.SGD(model.parameters(), lr=0.1, momentum=0.7)\n",
    "train_loop(model, dataloader, optimizer, criterion, num_epochs)"
   ]
  },
  {
   "cell_type": "code",
   "execution_count": 6,
   "id": "74999596",
   "metadata": {},
   "outputs": [
    {
     "name": "stdout",
     "output_type": "stream",
     "text": [
      "tensor([[1.0000e+00, 5.5879e-09]], grad_fn=<MmBackward0>)\n"
     ]
    }
   ],
   "source": [
    "print(model(torch.tensor([[1.,1.]])))"
   ]
  },
  {
   "cell_type": "code",
   "execution_count": 7,
   "id": "529385a3",
   "metadata": {},
   "outputs": [],
   "source": [
    "def calculate_qubo_matrix(model, outputs, expecteds):\n",
    "    W = model.linear_relu_stack[-1].weight.detach().numpy()\n",
    "    A = outputs.detach().numpy()\n",
    "    Y = expecteds.detach().numpy()\n",
    "    Q = np.einsum('di,ei,dj,ej->ij',W,A,W,A)\n",
    "    np.fill_diagonal(Q,0)\n",
    "    print('Calculating Q(i,i):')\n",
    "    for i in tqdm(range(W.shape[1])):\n",
    "        for e in range(A.shape[0]):\n",
    "            for d in range(W.shape[0]):\n",
    "                Q[i,i] += (W[d,i]*A[e,i])**2 - 2*W[d,i]*A[e,i]*Y[e,d]\n",
    "    return BinaryQuadraticModel(Q, \"BINARY\")\n",
    "\n",
    "def calculate_pyqubo(model, outputs, expecteds):\n",
    "    W = model.linear_relu_stack[-1].weight.detach().numpy()\n",
    "    A = outputs.detach().numpy()\n",
    "    Y = expecteds.detach().numpy()\n",
    "    Q = torch.zeros(model.linear_relu_stack[-1].in_features, model.linear_relu_stack[-1].in_features)\n",
    "    main_diagonal = (((A@W.T) - 2*Y) @ W).T @ A\n",
    "    Q += torch.eye(model.linear_relu_stack[-1].in_features)*main_diagonal\n",
    "    return BinaryQuadraticModel(Q, \"BINARY\")\n",
    "\n",
    "def calculate_pyqubo_old(model, outputs, expecteds):\n",
    "    \"\"\"\n",
    "    Input: model and batch from dataloader.\n",
    "    Add result from all images and call .compile().\n",
    "    Make sure the last layer of the model is fully connected and named fc.\n",
    "    \"\"\"\n",
    "    H = 0\n",
    "    # Extract one example from batch.\n",
    "    # for X, y in zip(images, labels):\n",
    "    # Calculate result before fully connected layer.\n",
    "    \n",
    "    W = model.linear_relu_stack[-1].weight.detach().numpy()\n",
    "    A = outputs.detach().numpy()\n",
    "    Y = expecteds.detach().numpy()\n",
    "    x = np.array([pyqubo.Binary(f\"{i}\") for i in range(outputs.shape[1])])\n",
    "    for output, expected in zip(A, Y):\n",
    "        labels = W @ (output.T*x)\n",
    "        H += ((labels-expected)**2).sum()\n",
    "    return H\n"
   ]
  },
  {
   "cell_type": "code",
   "execution_count": 8,
   "id": "466336b0",
   "metadata": {
    "scrolled": true
   },
   "outputs": [
    {
     "name": "stdout",
     "output_type": "stream",
     "text": [
      "1 / 4\n",
      "2 / 4\n",
      "3 / 4\n",
      "4 / 4\n",
      "Calculating Q(i,i):\n"
     ]
    },
    {
     "name": "stderr",
     "output_type": "stream",
     "text": [
      "100%|█████████████████████████████████████████| 20/20 [00:00<00:00, 3433.45it/s]"
     ]
    },
    {
     "name": "stdout",
     "output_type": "stream",
     "text": [
      "BinaryQuadraticModel({0: -0.5492585301399231, 1: 0.0014784903032705188, 2: 0.0, 3: -0.5707653760910034, 4: -0.25462859869003296, 5: -0.49894416332244873, 6: -0.1795988827943802, 7: 0.0, 8: 0.0, 9: 0.0, 10: -0.39972108602523804, 11: 0.0, 12: -0.1905251145362854, 13: -0.20781666040420532, 14: -0.09367382526397705, 15: -0.08991527557373047, 16: -0.4225953221321106, 17: 0.0, 18: -0.5440356135368347, 19: 0.0}, {}, 0.0, 'BINARY')\n",
      "\n",
      "BinaryQuadraticModel({0: -0.5753253102302551, 1: 0.002960286336019635, 2: 0.0, 3: -0.7177073955535889, 4: -0.4365677237510681, 5: -0.7455265522003174, 6: -0.28424933552742004, 7: 0.0, 8: 0.0, 9: 0.0, 10: -0.41854411363601685, 11: 0.0, 12: -0.34430861473083496, 13: -0.3884769678115845, 14: -0.17514923214912415, 15: -0.1714577078819275, 16: -0.6548526883125305, 17: 0.0, 18: -0.27008846402168274, 19: 0.0}, {(3, 0): -0.500791072845459, (3, 1): -0.0009773384081199765, (5, 1): -0.00016815541312098503, (5, 3): -0.0077266208827495575, (5, 4): 0.24880225956439972, (6, 1): -0.00031282275449484587, (6, 3): -0.035349320620298386, (6, 4): 0.10798422247171402, (6, 5): 0.22702237963676453, (10, 0): -0.5262900590896606, (10, 1): -0.0005438357475213706, (10, 3): 0.7392661571502686, (10, 5): -0.03642060607671738, (10, 6): -0.07799826562404633, (12, 0): -0.04153090715408325, (12, 3): 0.15802204608917236, (12, 4): 0.0005805343971587718, (12, 5): 0.009338153526186943, (12, 6): 0.001091361977159977, (12, 10): 0.10446599125862122, (13, 0): -0.006817961111664772, (13, 1): -0.0001027248363243416, (13, 3): 0.10317730903625488, (13, 4): 0.012484392151236534, (13, 5): 0.05797166749835014, (13, 6): 0.020677585154771805, (13, 10): 0.061183325946331024, (13, 12): 0.052471060305833817, (14, 0): 0.14868025481700897, (14, 3): -0.05478435009717941, (14, 5): 0.0013950471766293049, (14, 10): -0.0755234956741333, (14, 12): 0.0029995040968060493, (14, 13): 0.004235805477946997, (15, 0): -0.02419549599289894, (15, 3): 0.07308997213840485, (15, 5): 0.0014917647931724787, (15, 10): 0.06150771677494049, (15, 12): 0.032109543681144714, (15, 13): 0.02338363602757454, (15, 14): -0.001967176329344511, (16, 0): -0.2746370732784271, (16, 1): -0.0008587148040533066, (16, 3): 0.550920844078064, (16, 4): -0.00597321055829525, (16, 5): -0.008541181683540344, (16, 6): -0.03381429985165596, (16, 10): 0.48163485527038574, (16, 12): 0.08487652987241745, (16, 13): 0.06282961368560791, (16, 14): -0.02990960329771042, (16, 15): 0.03872889280319214, (18, 0): 1.2777159214019775, (18, 3): -0.7309635877609253, (18, 10): -0.6936357021331787, (18, 12): -0.09685684740543365, (18, 13): -0.030173080042004585, (18, 14): 0.167824849486351, (18, 15): -0.041064001619815826, (18, 16): -0.40074190497398376}, 0.0, 'BINARY')\n",
      "\n",
      "<cpp_pyqubo.Model object at 0x117fd4bf0>\n"
     ]
    },
    {
     "name": "stderr",
     "output_type": "stream",
     "text": [
      "\n"
     ]
    }
   ],
   "source": [
    "# anneal loop\n",
    "\n",
    "outputs = []\n",
    "expecteds = []\n",
    "\n",
    "model.train()\n",
    "with torch.no_grad():\n",
    "    for i, data in enumerate(dataloader):\n",
    "        images, labels = data\n",
    "        a = model.forward_no_fc(images)\n",
    "        outputs.extend(a)\n",
    "        # expected = torch.eye(model.linear_relu_stack[-1].out_features)[labels.to(torch.long)]\n",
    "        expected = labels\n",
    "        expecteds.extend(expected)\n",
    "\n",
    "        # H += calculate_pyqubo(model, images, labels)\n",
    "        # if i%100 == 0:\n",
    "        print(f\"{i+1} / {len(dataloader)}\")\n",
    "    outputs, expecteds = torch.stack(outputs), torch.stack(expecteds)\n",
    "QM = calculate_qubo_matrix(model, outputs, expecteds)\n",
    "Q = calculate_pyqubo(model, outputs, expecteds)\n",
    "QP = calculate_pyqubo_old(model, outputs, expecteds).compile()\n",
    "print(Q)\n",
    "print()\n",
    "print(QM)\n",
    "print()\n",
    "print(QP)"
   ]
  },
  {
   "cell_type": "code",
   "execution_count": 9,
   "id": "c34d5604",
   "metadata": {
    "scrolled": false
   },
   "outputs": [
    {
     "name": "stdout",
     "output_type": "stream",
     "text": [
      "BinaryQuadraticModel({0: -0.5492585301399231, 1: 0.0014784903032705188, 2: 0.0, 3: -0.5707653760910034, 4: -0.25462859869003296, 5: -0.49894416332244873, 6: -0.1795988827943802, 7: 0.0, 8: 0.0, 9: 0.0, 10: -0.39972108602523804, 11: 0.0, 12: -0.1905251145362854, 13: -0.20781666040420532, 14: -0.09367382526397705, 15: -0.08991527557373047, 16: -0.4225953221321106, 17: 0.0, 18: -0.5440356135368347, 19: 0.0}, {}, 0.0, 'BINARY')\n",
      "\n",
      "({(0, 0): -0.5753253102302551,\n",
      "  (1, 1): 0.002960286336019635,\n",
      "  (2, 2): 0.0,\n",
      "  (3, 0): -0.500791072845459,\n",
      "  (3, 1): -0.0009773384081199765,\n",
      "  (3, 3): -0.7177073955535889,\n",
      "  (4, 4): -0.4365677237510681,\n",
      "  (5, 1): -0.00016815541312098503,\n",
      "  (5, 3): -0.0077266208827495575,\n",
      "  (5, 4): 0.24880225956439972,\n",
      "  (5, 5): -0.7455265522003174,\n",
      "  (6, 1): -0.00031282275449484587,\n",
      "  (6, 3): -0.035349320620298386,\n",
      "  (6, 4): 0.10798422247171402,\n",
      "  (6, 5): 0.22702237963676453,\n",
      "  (6, 6): -0.28424933552742004,\n",
      "  (7, 7): 0.0,\n",
      "  (8, 8): 0.0,\n",
      "  (9, 9): 0.0,\n",
      "  (10, 0): -0.5262900590896606,\n",
      "  (10, 1): -0.0005438357475213706,\n",
      "  (10, 3): 0.7392661571502686,\n",
      "  (10, 5): -0.03642060607671738,\n",
      "  (10, 6): -0.07799826562404633,\n",
      "  (10, 10): -0.41854411363601685,\n",
      "  (11, 11): 0.0,\n",
      "  (12, 0): -0.04153090715408325,\n",
      "  (12, 3): 0.15802204608917236,\n",
      "  (12, 4): 0.0005805343971587718,\n",
      "  (12, 5): 0.009338153526186943,\n",
      "  (12, 6): 0.001091361977159977,\n",
      "  (12, 10): 0.10446599125862122,\n",
      "  (12, 12): -0.34430861473083496,\n",
      "  (13, 0): -0.006817961111664772,\n",
      "  (13, 1): -0.0001027248363243416,\n",
      "  (13, 3): 0.10317730903625488,\n",
      "  (13, 4): 0.012484392151236534,\n",
      "  (13, 5): 0.05797166749835014,\n",
      "  (13, 6): 0.020677585154771805,\n",
      "  (13, 10): 0.061183325946331024,\n",
      "  (13, 12): 0.052471060305833817,\n",
      "  (13, 13): -0.3884769678115845,\n",
      "  (14, 0): 0.14868025481700897,\n",
      "  (14, 3): -0.05478435009717941,\n",
      "  (14, 5): 0.0013950471766293049,\n",
      "  (14, 10): -0.0755234956741333,\n",
      "  (14, 12): 0.0029995040968060493,\n",
      "  (14, 13): 0.004235805477946997,\n",
      "  (14, 14): -0.17514923214912415,\n",
      "  (15, 0): -0.02419549599289894,\n",
      "  (15, 3): 0.07308997213840485,\n",
      "  (15, 5): 0.0014917647931724787,\n",
      "  (15, 10): 0.06150771677494049,\n",
      "  (15, 12): 0.032109543681144714,\n",
      "  (15, 13): 0.02338363602757454,\n",
      "  (15, 14): -0.001967176329344511,\n",
      "  (15, 15): -0.1714577078819275,\n",
      "  (16, 0): -0.2746370732784271,\n",
      "  (16, 1): -0.0008587148040533066,\n",
      "  (16, 3): 0.550920844078064,\n",
      "  (16, 4): -0.00597321055829525,\n",
      "  (16, 5): -0.008541181683540344,\n",
      "  (16, 6): -0.03381429985165596,\n",
      "  (16, 10): 0.48163485527038574,\n",
      "  (16, 12): 0.08487652987241745,\n",
      "  (16, 13): 0.06282961368560791,\n",
      "  (16, 14): -0.02990960329771042,\n",
      "  (16, 15): 0.03872889280319214,\n",
      "  (16, 16): -0.6548526883125305,\n",
      "  (17, 17): 0.0,\n",
      "  (18, 0): 1.2777159214019775,\n",
      "  (18, 3): -0.7309635877609253,\n",
      "  (18, 10): -0.6936357021331787,\n",
      "  (18, 12): -0.09685684740543365,\n",
      "  (18, 13): -0.030173080042004585,\n",
      "  (18, 14): 0.167824849486351,\n",
      "  (18, 15): -0.041064001619815826,\n",
      "  (18, 16): -0.40074190497398376,\n",
      "  (18, 18): -0.27008846402168274,\n",
      "  (19, 19): 0.0},\n",
      " 0.0)\n",
      "\n",
      "({('0', '0'): -0.5753253051379102,\n",
      "  ('0', '10'): -0.5262900757426217,\n",
      "  ('0', '12'): -0.04153090639692715,\n",
      "  ('0', '13'): -0.006817960613172483,\n",
      "  ('0', '14'): 0.14868025802947613,\n",
      "  ('0', '15'): -0.02419549391220551,\n",
      "  ('0', '16'): -0.2746370799905754,\n",
      "  ('0', '18'): 1.277715888716747,\n",
      "  ('0', '3'): -0.500791087921184,\n",
      "  ('1', '1'): 0.002960286267135855,\n",
      "  ('1', '10'): -0.0005438357257333639,\n",
      "  ('1', '13'): -0.00010272483816661635,\n",
      "  ('1', '16'): -0.0008587148711557804,\n",
      "  ('1', '3'): -0.0009773384414833405,\n",
      "  ('1', '5'): -0.0001681554060771691,\n",
      "  ('1', '6'): -0.0003128227341913353,\n",
      "  ('10', '10'): -0.41854411436767797,\n",
      "  ('10', '12'): 0.10446599391131214,\n",
      "  ('10', '13'): 0.061183328636041784,\n",
      "  ('10', '14'): -0.07552349871828631,\n",
      "  ('10', '15'): 0.061507717789199945,\n",
      "  ('10', '16'): 0.48163486544796297,\n",
      "  ('10', '18'): -0.6936357278078182,\n",
      "  ('10', '3'): 0.7392661703518313,\n",
      "  ('10', '5'): -0.036420607291661244,\n",
      "  ('10', '6'): -0.07799827164590895,\n",
      "  ('12', '12'): -0.34430861825764997,\n",
      "  ('12', '13'): 0.05247106146551368,\n",
      "  ('12', '14'): 0.002999504698999855,\n",
      "  ('12', '15'): 0.03210954414143659,\n",
      "  ('12', '16'): 0.0848765294523428,\n",
      "  ('12', '18'): -0.09685685578631013,\n",
      "  ('12', '3'): 0.1580220460052265,\n",
      "  ('12', '4'): 0.0005805344359537873,\n",
      "  ('12', '5'): 0.009338152896139538,\n",
      "  ('12', '6'): 0.0010913620841699091,\n",
      "  ('13', '13'): -0.38847697910775425,\n",
      "  ('13', '14'): 0.0042358053335390874,\n",
      "  ('13', '15'): 0.023383637352054218,\n",
      "  ('13', '16'): 0.06282960999076072,\n",
      "  ('13', '18'): -0.03017308128009389,\n",
      "  ('13', '3'): 0.10317730932268893,\n",
      "  ('13', '4'): 0.012484393124958384,\n",
      "  ('13', '5'): 0.05797166933636553,\n",
      "  ('13', '6'): 0.020677585358342153,\n",
      "  ('14', '14'): -0.17514924318417288,\n",
      "  ('14', '15'): -0.0019671764241336216,\n",
      "  ('14', '16'): -0.029909602458768746,\n",
      "  ('14', '18'): 0.1678248436597238,\n",
      "  ('14', '3'): -0.05478434990368976,\n",
      "  ('14', '5'): 0.0013950471664304206,\n",
      "  ('15', '15'): -0.17145770516433187,\n",
      "  ('15', '16'): 0.03872889236623074,\n",
      "  ('15', '18'): -0.041064006413697694,\n",
      "  ('15', '3'): 0.07308997307155121,\n",
      "  ('15', '5'): 0.0014917649250660054,\n",
      "  ('16', '16'): -0.6548526742363665,\n",
      "  ('16', '18'): -0.40074193097586697,\n",
      "  ('16', '3'): 0.5509208606869451,\n",
      "  ('16', '4'): -0.00597321063829183,\n",
      "  ('16', '5'): -0.008541182028677707,\n",
      "  ('16', '6'): -0.033814299888561515,\n",
      "  ('18', '18'): -0.27008843662711113,\n",
      "  ('18', '3'): -0.7309635619070001,\n",
      "  ('3', '3'): -0.7177073676046193,\n",
      "  ('3', '5'): -0.007726620735934977,\n",
      "  ('3', '6'): -0.035349320512393825,\n",
      "  ('4', '4'): -0.43656772539683936,\n",
      "  ('4', '5'): 0.24880227176446656,\n",
      "  ('4', '6'): 0.10798422553648783,\n",
      "  ('5', '5'): -0.7455265358294858,\n",
      "  ('5', '6'): 0.22702238986763446,\n",
      "  ('6', '6'): -0.2842493172682123},\n",
      " 4.0)\n"
     ]
    }
   ],
   "source": [
    "from pprint import pprint\n",
    "\n",
    "pprint(Q)\n",
    "print()\n",
    "pprint(QM.to_qubo())\n",
    "print()\n",
    "pprint(QP.to_qubo())"
   ]
  },
  {
   "cell_type": "code",
   "execution_count": 10,
   "id": "1d255eac",
   "metadata": {},
   "outputs": [
    {
     "ename": "AttributeError",
     "evalue": "'BinaryQuadraticModel' object has no attribute 'to_bqm'",
     "output_type": "error",
     "traceback": [
      "\u001b[0;31m---------------------------------------------------------------------------\u001b[0m",
      "\u001b[0;31mAttributeError\u001b[0m                            Traceback (most recent call last)",
      "Input \u001b[0;32mIn [10]\u001b[0m, in \u001b[0;36m<cell line: 1>\u001b[0;34m()\u001b[0m\n\u001b[0;32m----> 1\u001b[0m samplesetM \u001b[38;5;241m=\u001b[39m SimulatedAnnealingSampler()\u001b[38;5;241m.\u001b[39msample(\u001b[43mQM\u001b[49m\u001b[38;5;241;43m.\u001b[39;49m\u001b[43mto_bqm\u001b[49m(), num_reads\u001b[38;5;241m=\u001b[39m\u001b[38;5;241m1000\u001b[39m)\n\u001b[1;32m      2\u001b[0m samplesetP \u001b[38;5;241m=\u001b[39m SimulatedAnnealingSampler()\u001b[38;5;241m.\u001b[39msample(QP\u001b[38;5;241m.\u001b[39mto_bqm(), num_reads\u001b[38;5;241m=\u001b[39m\u001b[38;5;241m1000\u001b[39m)\n\u001b[1;32m      3\u001b[0m \u001b[38;5;28;01mfrom\u001b[39;00m \u001b[38;5;21;01mcopy\u001b[39;00m \u001b[38;5;28;01mimport\u001b[39;00m deepcopy\n",
      "\u001b[0;31mAttributeError\u001b[0m: 'BinaryQuadraticModel' object has no attribute 'to_bqm'"
     ]
    }
   ],
   "source": [
    "samplesetM = SimulatedAnnealingSampler().sample(QM.to_bqm(), num_reads=1000)\n",
    "samplesetP = SimulatedAnnealingSampler().sample(QP.to_bqm(), num_reads=1000)\n",
    "from copy import deepcopy\n",
    "modelM = deepcopy(model)\n",
    "modelP = deepcopy(model)\n",
    "modelM.linear_relu_stack[-1].weight *= torch.tensor(list(samplesetM.first.sample.values()))\n",
    "modelP.linear_relu_stack[-1].weight *= torch.tensor(list(samplesetP.first.sample.values()))"
   ]
  },
  {
   "cell_type": "code",
   "execution_count": null,
   "id": "a5306438",
   "metadata": {},
   "outputs": [],
   "source": []
  }
 ],
 "metadata": {
  "kernelspec": {
   "display_name": "Python 3 (ipykernel)",
   "language": "python",
   "name": "python3"
  },
  "language_info": {
   "codemirror_mode": {
    "name": "ipython",
    "version": 3
   },
   "file_extension": ".py",
   "mimetype": "text/x-python",
   "name": "python",
   "nbconvert_exporter": "python",
   "pygments_lexer": "ipython3",
   "version": "3.10.3"
  }
 },
 "nbformat": 4,
 "nbformat_minor": 5
}
